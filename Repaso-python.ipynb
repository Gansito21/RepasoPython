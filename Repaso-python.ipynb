{
 "cells": [
  {
   "cell_type": "markdown",
   "id": "a68b867b",
   "metadata": {},
   "source": [
    "# 1. Sintaxis y espacios en blanco\n"
   ]
  },
  {
   "cell_type": "code",
   "execution_count": 5,
   "id": "5c01f0de",
   "metadata": {},
   "outputs": [
    {
     "name": "stdout",
     "output_type": "stream",
     "text": [
      "Ingresa tu numero de estudiante \n",
      "100\n",
      "Bienvenido estudiante numero 100\n"
     ]
    }
   ],
   "source": [
    "num_estu  = int(input(\"Ingresa tu numero de estudiante \\n\"))\n",
    "if num_estu != 0:\n",
    "    print(f\"Bienvenido estudiante numero {num_estu}\")\n",
    "else:\n",
    "    print(\"Ingresa bien tu numero :v\")"
   ]
  },
  {
   "cell_type": "markdown",
   "id": "274a5b94",
   "metadata": {},
   "source": [
    "# 2. Comentarios"
   ]
  },
  {
   "cell_type": "code",
   "execution_count": 6,
   "id": "3d155913",
   "metadata": {},
   "outputs": [
    {
     "name": "stdout",
     "output_type": "stream",
     "text": [
      "Hola\n"
     ]
    }
   ],
   "source": [
    "print(\"Hola\")  #esto es un comentario\n"
   ]
  },
  {
   "cell_type": "markdown",
   "id": "6f3970d1",
   "metadata": {},
   "source": [
    "# 3. Numeros y operaciones"
   ]
  },
  {
   "cell_type": "code",
   "execution_count": 11,
   "id": "6591ca8b",
   "metadata": {},
   "outputs": [
    {
     "name": "stdout",
     "output_type": "stream",
     "text": [
      "La suma de los numeros es: 13 y su formato <class 'int'>\n",
      "La suma de los numeros es: 7.3 y su formato <class 'float'>\n"
     ]
    }
   ],
   "source": [
    "a = 5 + 8\n",
    "print(f\"La suma de los numeros es: {a} y su formato\", type(a))\n",
    "\n",
    "b = 5 + 2.3\n",
    "print(f\"La suma de los numeros es: {b} y su formato\", type(b))"
   ]
  },
  {
   "cell_type": "markdown",
   "id": "fbf07387",
   "metadata": {},
   "source": [
    "# 4.Manipulación de cadenas"
   ]
  },
  {
   "cell_type": "code",
   "execution_count": 16,
   "id": "dc90b683",
   "metadata": {},
   "outputs": [
    {
     "name": "stdout",
     "output_type": "stream",
     "text": [
      "Que onda\n",
      "Q\n",
      "8\n",
      "1\n",
      "1\n",
      "1\n",
      "Que Onda\n",
      "QUE ONDA\n",
      "que onda\n",
      "Que onda!! :)\n",
      "Q:u:e: :o:n:d:a\n",
      "adno euQ\n"
     ]
    }
   ],
   "source": [
    "# crearemos una cadena y la imprimimos\n",
    "palabra= \"Que onda\"\n",
    "print(palabra)\n",
    "\n",
    "#Ahora encontramos el primer caracter, es decir Q\n",
    "print(palabra[0])\n",
    "\n",
    "#El tamaño de la cadena es:\n",
    "print(len(palabra))\n",
    "\n",
    "#mas ejemplos\n",
    "print(palabra.count('Q')) #cuenta las veces que se repite una letra\n",
    "print(palabra.find('u')) #encuentra la letra\n",
    "print(palabra.count(' ')) #encuentra los espacios en blanco\n",
    "print(palabra.title())\n",
    "print(palabra.upper()) #cambia a mayuculas, minusculas o ambos\n",
    "print(palabra.lower())\n",
    "print(palabra + '!! :)') #concatena cadenas\n",
    "print(':'.join(palabra)) #agrega : entre cada elemento \n",
    "print(\"\".join(reversed(palabra))) # Escribe alrevez la cadena"
   ]
  },
  {
   "cell_type": "markdown",
   "id": "75b7a033",
   "metadata": {},
   "source": [
    "# 5.Listas, tuplas y diccionarios\n"
   ]
  },
  {
   "cell_type": "code",
   "execution_count": 19,
   "id": "51f80595",
   "metadata": {},
   "outputs": [
    {
     "data": {
      "text/plain": [
       "'gansito'"
      ]
     },
     "execution_count": 19,
     "metadata": {},
     "output_type": "execute_result"
    }
   ],
   "source": [
    "lista_1 = [] #lista vacia\n",
    "lista_2 = [1,2,3,4]\n",
    "lista_3 = [1,'jitomate',4,5,6]\n",
    "\n",
    "#Multiples listas\n",
    "lista_4 = lista_2 + lista_3\n",
    "lista_4\n",
    "\n",
    "\n",
    "\n",
    "\n",
    "#Eliminamos elemtos\n",
    "lista_4.pop()"
   ]
  },
  {
   "cell_type": "code",
   "execution_count": 20,
   "id": "e6cc4eb6",
   "metadata": {},
   "outputs": [
    {
     "data": {
      "text/plain": [
       "[1, 2, 3, 4, 1, 'jitomate', 4]"
      ]
     },
     "execution_count": 20,
     "metadata": {},
     "output_type": "execute_result"
    }
   ],
   "source": [
    "#Imprimimos una seccion de la lista\n",
    "lista_4[0:7]"
   ]
  },
  {
   "cell_type": "code",
   "execution_count": null,
   "id": "796c8c74",
   "metadata": {},
   "outputs": [],
   "source": [
    "#Agregamos elementos \n",
    "lista_4.append('gansito')\n",
    "lista_4"
   ]
  },
  {
   "cell_type": "code",
   "execution_count": 21,
   "id": "cec33a59",
   "metadata": {},
   "outputs": [
    {
     "data": {
      "text/plain": [
       "[2, 3, 4, 1, 'jitomate', 4, 5, 6]"
      ]
     },
     "execution_count": 21,
     "metadata": {},
     "output_type": "execute_result"
    }
   ],
   "source": [
    "#Eliminamos elemtos\n",
    "lista_4.pop(0)\n",
    "lista_4"
   ]
  },
  {
   "cell_type": "code",
   "execution_count": null,
   "id": "7ecae1f8",
   "metadata": {},
   "outputs": [],
   "source": [
    "#iterando una lista\n",
    "for elemento in lista_4:\n",
    "    print(elemento)"
   ]
  },
  {
   "cell_type": "markdown",
   "id": "047c9a01",
   "metadata": {},
   "source": [
    "# Tuplas"
   ]
  },
  {
   "cell_type": "code",
   "execution_count": 22,
   "id": "0669d8a3",
   "metadata": {},
   "outputs": [
    {
     "data": {
      "text/plain": [
       "[1, 2, 3, 4, 5]"
      ]
     },
     "execution_count": 22,
     "metadata": {},
     "output_type": "execute_result"
    }
   ],
   "source": [
    "tupla = [1,2,3,4,5]\n",
    "tupla[:]"
   ]
  },
  {
   "cell_type": "markdown",
   "id": "51c73cc8",
   "metadata": {},
   "source": [
    "# Diccionarios \n"
   ]
  },
  {
   "cell_type": "code",
   "execution_count": 24,
   "id": "53126080",
   "metadata": {},
   "outputs": [
    {
     "data": {
      "text/plain": [
       "234"
      ]
     },
     "execution_count": 24,
     "metadata": {},
     "output_type": "execute_result"
    }
   ],
   "source": [
    "personas = {'jack' : 123, 'joe' : 234, 'harry'  : 345}\n",
    "personas['joe']"
   ]
  },
  {
   "cell_type": "markdown",
   "id": "933539f7",
   "metadata": {},
   "source": [
    "# 6.JSON"
   ]
  },
  {
   "cell_type": "code",
   "execution_count": 26,
   "id": "f3f5162a",
   "metadata": {},
   "outputs": [
    {
     "name": "stdout",
     "output_type": "stream",
     "text": [
      "El nombre es: Juan Gansito\n"
     ]
    }
   ],
   "source": [
    "import json\n",
    "x = '{\"nombre\":\"Juan\", \"apellido\":\"Gansito\", \"edad\": 25, \"ciudad\":\"CDMX\" }'\n",
    "\n",
    "#leyendo datos\n",
    "\n",
    "y = json.loads(x)\n",
    "\n",
    "print(\"El nombre es: \" + y[\"nombre\"] + \" \" + y[\"apellido\"])"
   ]
  },
  {
   "cell_type": "markdown",
   "id": "2e955017",
   "metadata": {},
   "source": [
    "# 7.Loops"
   ]
  },
  {
   "cell_type": "code",
   "execution_count": 27,
   "id": "3db6cf9d",
   "metadata": {},
   "outputs": [
    {
     "name": "stdout",
     "output_type": "stream",
     "text": [
      "b es mayor que a\n",
      "b es mayor que a\n"
     ]
    }
   ],
   "source": [
    "a = 22\n",
    "b = 33\n",
    "c = 100\n",
    "\n",
    "#ejemplo con if\n",
    "if a > b:\n",
    "    print(\"a es mayor que b\")\n",
    "else:\n",
    "    print(\"b es mayor que a\")\n",
    "\n",
    "#ejemplo con if, else, elif\n",
    "if a > b:\n",
    "    print(\"a es mayor que b\")\n",
    "elif a == b:\n",
    "    print(\"a es igual a b\")\n",
    "else:\n",
    "    print(\"b es mayor que a\")\n",
    "    "
   ]
  },
  {
   "cell_type": "code",
   "execution_count": 33,
   "id": "9d49b998",
   "metadata": {},
   "outputs": [
    {
     "name": "stdout",
     "output_type": "stream",
     "text": [
      "contador: 1\n",
      "contador: 2\n",
      "contador: 3\n",
      "contador: 4\n",
      "contador: 5\n",
      "contador: 6\n",
      "contador: 7\n",
      "contador: 8\n",
      "contador: 9\n",
      "==========\n",
      "1\n",
      "3\n",
      "4\n",
      "5\n",
      "x ya no es menor a 5\n"
     ]
    }
   ],
   "source": [
    "#ciclo while\n",
    "i = 1\n",
    "while i < 10:\n",
    "    print(\"contador:\", i)\n",
    "    i += 1\n",
    "\n",
    "print(\"=\"*10)\n",
    "\n",
    "#ejemplo\n",
    "x = 0\n",
    "while x < 5:\n",
    "    x += 1\n",
    "    if x == 2:\n",
    "        continue\n",
    "    print(x)\n",
    "else:\n",
    "    print(\"x ya no es menor a 5\")\n",
    "    "
   ]
  },
  {
   "cell_type": "code",
   "execution_count": 35,
   "id": "19239bb9",
   "metadata": {},
   "outputs": [
    {
     "name": "stdout",
     "output_type": "stream",
     "text": [
      "naranja\n",
      "mango\n",
      "naranja\n",
      "fresa\n",
      "\n",
      "\n",
      "==========\n",
      "1\n",
      "tarea completada\n"
     ]
    }
   ],
   "source": [
    "#ciclo for\n",
    "frutas = [\"naranja\", \"mango\", \"naranja\",\"fresa\"]\n",
    "for fruta in frutas:\n",
    "    print(fruta)\n",
    "    \n",
    "print(\"\\n\")\n",
    "print(\"=\"*10)\n",
    "\n",
    "#iteracion range\n",
    "\n",
    "for z in range(1,2,3):\n",
    "    print(z)\n",
    "else:\n",
    "    print(\"tarea completada\")"
   ]
  },
  {
   "cell_type": "markdown",
   "id": "8c3b2390",
   "metadata": {},
   "source": [
    "# Manejo de archivos"
   ]
  },
  {
   "cell_type": "code",
   "execution_count": 37,
   "id": "ccd890d2",
   "metadata": {},
   "outputs": [],
   "source": [
    "#existen 4 metodos diferentes para abrir un archivo\n",
    "# \"r\" Read, \"a\" Append, \"w\" Write, \"x\" Create\n",
    "# y para especificar que tipo de archivo es:\n",
    "# \"t\" text, \"b\" bynari\n",
    "\n",
    "!echo \"Primera linea\" > test.txt\n",
    "!echo \"Segunda linea\" > tets.txt\n",
    "!echo \"Tercera linea\" > test.txt"
   ]
  },
  {
   "cell_type": "code",
   "execution_count": 39,
   "id": "e1654881",
   "metadata": {},
   "outputs": [
    {
     "name": "stdout",
     "output_type": "stream",
     "text": [
      "Tercera linea\n",
      "\n",
      "\n",
      "\n",
      "==========\n",
      "\n",
      "\n",
      "Tercera li\n",
      "\n",
      "\n",
      "==========\n",
      "\n",
      "\n",
      "Tercera linea\n",
      "\n"
     ]
    }
   ],
   "source": [
    "#Leyendo archivos\n",
    "file = open('test.txt','r')\n",
    "print(file.read())\n",
    "file.close()\n",
    "\n",
    "print(\"\\n\")\n",
    "print(\"=\"*10)\n",
    "print(\"\\n\")\n",
    "\n",
    "#leyendo los primeros 10 elementos\n",
    "file = open('test.txt','r')\n",
    "print(file.read(10))\n",
    "file.close()\n",
    "\n",
    "print(\"\\n\")\n",
    "print(\"=\"*10)\n",
    "print(\"\\n\")\n",
    "\n",
    "#leyendo\n",
    "\n",
    "file = open('test.txt','r')\n",
    "print(file.readline())\n",
    "file.close()\n"
   ]
  },
  {
   "cell_type": "code",
   "execution_count": 40,
   "id": "c7b25c0f",
   "metadata": {},
   "outputs": [
    {
     "name": "stdout",
     "output_type": "stream",
     "text": [
      "Contenido del nuevo archivo\n"
     ]
    }
   ],
   "source": [
    "# creando nuevo archivo\n",
    "file = open('test2.txt','w')\n",
    "file.write(\"Contenido del nuevo archivo\")\n",
    "file.close()\n",
    "\n",
    "#leyendo el contenido\n",
    "file = open('test2.txt','r')\n",
    "print(file.read())\n",
    "file.close()"
   ]
  },
  {
   "cell_type": "code",
   "execution_count": null,
   "id": "82279a19",
   "metadata": {},
   "outputs": [],
   "source": [
    "#actualizando archivo\n",
    "file = open('test2.txt','r')\n",
    "file.write(\"rjrjnrkmemke\")\n",
    "file.close()\n",
    "\n",
    "#leyendo el contenido \n",
    "file = open('test2.txt','r')\n",
    "print(file.read())\n",
    "file.close()"
   ]
  },
  {
   "cell_type": "code",
   "execution_count": null,
   "id": "ae8619d4",
   "metadata": {},
   "outputs": [],
   "source": [
    "#borrar archivo\n",
    "import os\n",
    "archivos = [\"test.txt\", \"test2.txt\"]\n",
    "for elementos in archivos:\n",
    "    if os.path.exists(elementos):\n",
    "        os.remove(elementos)\n",
    "        print(f\"archico {elementos} eliminado con exito!\")\n",
    "    else:\n",
    "        print(f\"{elementos} el archivo no existe.\")"
   ]
  },
  {
   "cell_type": "markdown",
   "id": "5e353af2",
   "metadata": {},
   "source": [
    "# 9.Funciones"
   ]
  },
  {
   "cell_type": "code",
   "execution_count": 41,
   "id": "10a7915c",
   "metadata": {},
   "outputs": [
    {
     "name": "stdout",
     "output_type": "stream",
     "text": [
      "nueva funcion\n"
     ]
    }
   ],
   "source": [
    "def funcion():\n",
    "    print(\"nueva funcion\")\n",
    "\n",
    "funcion()"
   ]
  },
  {
   "cell_type": "code",
   "execution_count": 42,
   "id": "924cf5b6",
   "metadata": {},
   "outputs": [
    {
     "name": "stdout",
     "output_type": "stream",
     "text": [
      "El nombre es: paco\n",
      "El nombre es: gaby\n",
      "El nombre es: taco\n"
     ]
    }
   ],
   "source": [
    "#funcion con parametros\n",
    "\n",
    "def funcion_para(nombre):\n",
    "    print(f\"El nombre es: {nombre}\")\n",
    "\n",
    "funcion_para(\"paco\")\n",
    "funcion_para(\"gaby\")\n",
    "funcion_para(\"taco\")\n"
   ]
  },
  {
   "cell_type": "code",
   "execution_count": 43,
   "id": "bffe4b51",
   "metadata": {},
   "outputs": [
    {
     "name": "stdout",
     "output_type": "stream",
     "text": [
      "115\n",
      "\n",
      "\n",
      "==========\n",
      "\n",
      "\n",
      "0.08\n"
     ]
    }
   ],
   "source": [
    "#funcion lambda\n",
    "x = lambda y: y + 100\n",
    "print(x(15))\n",
    "\n",
    "print(\"\\n\")\n",
    "print(\"=\"*10)\n",
    "print(\"\\n\")\n",
    "\n",
    "x = lambda a, b: a*b/100\n",
    "print(x(2,4))"
   ]
  },
  {
   "cell_type": "markdown",
   "id": "ffd5c003",
   "metadata": {},
   "source": [
    "# 10.Trabajando con datetime"
   ]
  },
  {
   "cell_type": "code",
   "execution_count": 44,
   "id": "575a4ce4",
   "metadata": {},
   "outputs": [
    {
     "name": "stdout",
     "output_type": "stream",
     "text": [
      "2022-09-17 22:02:00.328656\n",
      "2022\n",
      "Saturday\n",
      "September\n",
      "17\n",
      "22:02:00 PM\n"
     ]
    }
   ],
   "source": [
    "import datetime\n",
    "\n",
    "x = datetime.datetime.now()\n",
    "\n",
    "print(x)\n",
    "print(x.year)\n",
    "print(x.strftime(\"%A\"))\n",
    "print(x.strftime(\"%B\"))\n",
    "print(x.strftime(\"%d\"))\n",
    "print(x.strftime(\"%H:%M:%S %p\"))"
   ]
  },
  {
   "cell_type": "markdown",
   "id": "4ef12bc4",
   "metadata": {},
   "source": [
    "# 11.NumPy"
   ]
  },
  {
   "cell_type": "code",
   "execution_count": 45,
   "id": "bf14035e",
   "metadata": {},
   "outputs": [
    {
     "name": "stdout",
     "output_type": "stream",
     "text": [
      "Requirement already satisfied: numpy in /Users/lordchuy/opt/anaconda3/lib/python3.9/site-packages (1.21.5)\r\n"
     ]
    }
   ],
   "source": [
    "!pip install numpy\n",
    "import numpy as np"
   ]
  },
  {
   "cell_type": "code",
   "execution_count": 49,
   "id": "5d0f85a9",
   "metadata": {},
   "outputs": [],
   "source": [
    "#\n",
    "a = np.arange(15).reshape(3,5)\n",
    "b = np.zeros((3,5))\n",
    "c = np.ones((2,3,4), dtype = np.int16)\n",
    "d = np.ones((3,5))"
   ]
  },
  {
   "cell_type": "code",
   "execution_count": 50,
   "id": "86d60569",
   "metadata": {},
   "outputs": [
    {
     "data": {
      "text/plain": [
       "(3, 5)"
      ]
     },
     "execution_count": 50,
     "metadata": {},
     "output_type": "execute_result"
    }
   ],
   "source": [
    "a.shape"
   ]
  },
  {
   "cell_type": "code",
   "execution_count": 53,
   "id": "ad79fc78",
   "metadata": {},
   "outputs": [
    {
     "data": {
      "text/plain": [
       "3"
      ]
     },
     "execution_count": 53,
     "metadata": {},
     "output_type": "execute_result"
    }
   ],
   "source": [
    "len(b)"
   ]
  },
  {
   "cell_type": "code",
   "execution_count": 52,
   "id": "86878f88",
   "metadata": {},
   "outputs": [
    {
     "data": {
      "text/plain": [
       "3"
      ]
     },
     "execution_count": 52,
     "metadata": {},
     "output_type": "execute_result"
    }
   ],
   "source": [
    "c.ndim"
   ]
  },
  {
   "cell_type": "code",
   "execution_count": 54,
   "id": "05d813cb",
   "metadata": {},
   "outputs": [
    {
     "data": {
      "text/plain": [
       "15"
      ]
     },
     "execution_count": 54,
     "metadata": {},
     "output_type": "execute_result"
    }
   ],
   "source": [
    "a.size"
   ]
  },
  {
   "cell_type": "code",
   "execution_count": 55,
   "id": "7949e622",
   "metadata": {},
   "outputs": [
    {
     "data": {
      "text/plain": [
       "dtype('float64')"
      ]
     },
     "execution_count": 55,
     "metadata": {},
     "output_type": "execute_result"
    }
   ],
   "source": [
    "b.dtype"
   ]
  },
  {
   "cell_type": "code",
   "execution_count": 56,
   "id": "7676eada",
   "metadata": {},
   "outputs": [
    {
     "data": {
      "text/plain": [
       "'int16'"
      ]
     },
     "execution_count": 56,
     "metadata": {},
     "output_type": "execute_result"
    }
   ],
   "source": [
    "c.dtype.name"
   ]
  },
  {
   "cell_type": "code",
   "execution_count": 57,
   "id": "2a7e0f30",
   "metadata": {},
   "outputs": [
    {
     "data": {
      "text/plain": [
       "array([[[1., 1., 1., 1.],\n",
       "        [1., 1., 1., 1.],\n",
       "        [1., 1., 1., 1.]],\n",
       "\n",
       "       [[1., 1., 1., 1.],\n",
       "        [1., 1., 1., 1.],\n",
       "        [1., 1., 1., 1.]]])"
      ]
     },
     "execution_count": 57,
     "metadata": {},
     "output_type": "execute_result"
    }
   ],
   "source": [
    "c.astype(float)"
   ]
  },
  {
   "cell_type": "code",
   "execution_count": 58,
   "id": "02905c15",
   "metadata": {},
   "outputs": [],
   "source": [
    "#Operaciones basicas\n",
    "a = np.arange(15).reshape(3,5)\n",
    "b = np.zeros((3,5))\n",
    "c = np.ones((2,3,4), dtype = np.int16)\n",
    "d = np.ones((3,5))"
   ]
  },
  {
   "cell_type": "code",
   "execution_count": 59,
   "id": "f8012ef6",
   "metadata": {},
   "outputs": [
    {
     "data": {
      "text/plain": [
       "array([[ 0.,  1.,  2.,  3.,  4.],\n",
       "       [ 5.,  6.,  7.,  8.,  9.],\n",
       "       [10., 11., 12., 13., 14.]])"
      ]
     },
     "execution_count": 59,
     "metadata": {},
     "output_type": "execute_result"
    }
   ],
   "source": [
    "np.add(a,b)"
   ]
  },
  {
   "cell_type": "code",
   "execution_count": 60,
   "id": "69ed7181",
   "metadata": {},
   "outputs": [
    {
     "data": {
      "text/plain": [
       "array([[ 0.,  1.,  2.,  3.,  4.],\n",
       "       [ 5.,  6.,  7.,  8.,  9.],\n",
       "       [10., 11., 12., 13., 14.]])"
      ]
     },
     "execution_count": 60,
     "metadata": {},
     "output_type": "execute_result"
    }
   ],
   "source": [
    "np.subtract(a,b)"
   ]
  },
  {
   "cell_type": "code",
   "execution_count": 61,
   "id": "bd3e8a12",
   "metadata": {},
   "outputs": [
    {
     "data": {
      "text/plain": [
       "array([[ 0.,  1.,  2.,  3.,  4.],\n",
       "       [ 5.,  6.,  7.,  8.,  9.],\n",
       "       [10., 11., 12., 13., 14.]])"
      ]
     },
     "execution_count": 61,
     "metadata": {},
     "output_type": "execute_result"
    }
   ],
   "source": [
    "np.divide(a,d)"
   ]
  },
  {
   "cell_type": "code",
   "execution_count": 62,
   "id": "6f1210f1",
   "metadata": {},
   "outputs": [
    {
     "data": {
      "text/plain": [
       "array([[ 0.,  1.,  2.,  3.,  4.],\n",
       "       [ 5.,  6.,  7.,  8.,  9.],\n",
       "       [10., 11., 12., 13., 14.]])"
      ]
     },
     "execution_count": 62,
     "metadata": {},
     "output_type": "execute_result"
    }
   ],
   "source": [
    "np.multiply(a,d)"
   ]
  },
  {
   "cell_type": "code",
   "execution_count": 63,
   "id": "5abf6175",
   "metadata": {},
   "outputs": [
    {
     "data": {
      "text/plain": [
       "False"
      ]
     },
     "execution_count": 63,
     "metadata": {},
     "output_type": "execute_result"
    }
   ],
   "source": [
    "np.array_equal(a,b)"
   ]
  },
  {
   "cell_type": "markdown",
   "id": "4dd7452b",
   "metadata": {},
   "source": [
    "## Agregando funciones"
   ]
  },
  {
   "cell_type": "code",
   "execution_count": 64,
   "id": "1fef1c71",
   "metadata": {},
   "outputs": [],
   "source": [
    "a = np.arange(15).reshape(3,5)\n",
    "b = np.zeros((3,5))\n",
    "c = np.ones((2,3,4), dtype = np.int16)\n",
    "d = np.ones((3,5))"
   ]
  },
  {
   "cell_type": "code",
   "execution_count": 65,
   "id": "06938a5f",
   "metadata": {},
   "outputs": [
    {
     "data": {
      "text/plain": [
       "105"
      ]
     },
     "execution_count": 65,
     "metadata": {},
     "output_type": "execute_result"
    }
   ],
   "source": [
    "a.sum()"
   ]
  },
  {
   "cell_type": "code",
   "execution_count": 66,
   "id": "7d07a57a",
   "metadata": {},
   "outputs": [
    {
     "data": {
      "text/plain": [
       "0"
      ]
     },
     "execution_count": 66,
     "metadata": {},
     "output_type": "execute_result"
    }
   ],
   "source": [
    "a.min()"
   ]
  },
  {
   "cell_type": "code",
   "execution_count": 67,
   "id": "53e80634",
   "metadata": {},
   "outputs": [
    {
     "data": {
      "text/plain": [
       "7.0"
      ]
     },
     "execution_count": 67,
     "metadata": {},
     "output_type": "execute_result"
    }
   ],
   "source": [
    "a.mean()"
   ]
  },
  {
   "cell_type": "code",
   "execution_count": 68,
   "id": "c5954c9a",
   "metadata": {},
   "outputs": [
    {
     "data": {
      "text/plain": [
       "array([10, 11, 12, 13, 14])"
      ]
     },
     "execution_count": 68,
     "metadata": {},
     "output_type": "execute_result"
    }
   ],
   "source": [
    "a.max(axis=0)"
   ]
  },
  {
   "cell_type": "code",
   "execution_count": 69,
   "id": "155c7def",
   "metadata": {},
   "outputs": [
    {
     "data": {
      "text/plain": [
       "4.320493798938574"
      ]
     },
     "execution_count": 69,
     "metadata": {},
     "output_type": "execute_result"
    }
   ],
   "source": [
    "np.std(a)"
   ]
  },
  {
   "cell_type": "code",
   "execution_count": null,
   "id": "e95351f6",
   "metadata": {},
   "outputs": [],
   "source": []
  }
 ],
 "metadata": {
  "kernelspec": {
   "display_name": "Python 3 (ipykernel)",
   "language": "python",
   "name": "python3"
  },
  "language_info": {
   "codemirror_mode": {
    "name": "ipython",
    "version": 3
   },
   "file_extension": ".py",
   "mimetype": "text/x-python",
   "name": "python",
   "nbconvert_exporter": "python",
   "pygments_lexer": "ipython3",
   "version": "3.9.12"
  }
 },
 "nbformat": 4,
 "nbformat_minor": 5
}
